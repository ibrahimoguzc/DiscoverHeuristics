{
 "cells": [
  {
   "cell_type": "code",
   "execution_count": 3,
   "metadata": {},
   "outputs": [
    {
     "name": "stdout",
     "output_type": "stream",
     "text": [
      "Total instances generated: 800\n",
      "{'processing_times': array([32, 82, 34, 96, 73, 72, 89, 82, 70, 27, 88, 11, 50, 74, 89, 45, 69,\n",
      "       96, 86, 83,  9, 59, 30, 76, 67]), 'due_dates': array([1248, 1323, 1155, 1316, 1359, 1341, 1187, 1268, 1414, 1158, 1356,\n",
      "       1178, 1294, 1387, 1157, 1179, 1204, 1417, 1358, 1320, 1343, 1334,\n",
      "       1147, 1364, 1287])}\n"
     ]
    }
   ],
   "source": [
    "# data generation\n",
    "import numpy as np\n",
    "\n",
    "def generate_instance(n, RDD, TF):\n",
    "    # processing times\n",
    "    p = np.random.uniform(1, 100, n).astype(int)\n",
    "\n",
    "    # total processing time\n",
    "    P = np.sum(p)\n",
    "\n",
    "    # Generate due dates\n",
    "    d_lower_bound = P * (1 - TF - RDD / 2)\n",
    "    d_upper_bound = P * (1 - TF + RDD / 2)\n",
    "    d = np.random.uniform(d_lower_bound, d_upper_bound, n).astype(int)\n",
    "    return {'processing_times': p, 'due_dates': d}\n",
    "\n",
    "def generate_data(n, RDD_values, TF_values, instances_per_combination):\n",
    "    data = []\n",
    "    for RDD in RDD_values:\n",
    "        for TF in TF_values:\n",
    "            for _ in range(instances_per_combination):\n",
    "                instance = generate_instance(n, RDD, TF)\n",
    "                data.append(instance)\n",
    "                \n",
    "    return data\n",
    "\n",
    "# parameters\n",
    "n = 25 # number of jobs\n",
    "RDD_values = [0.2, 0.4, 0.6, 0.8, 1.0] #adjust parameters\n",
    "TF_values = [0.2, 0.4, 0.6, 0.8] \n",
    "instances_per_combination =  40 # adjust instances per class\n",
    "\n",
    "# Generate data\n",
    "data= generate_data(n, RDD_values, TF_values, instances_per_combination)\n",
    "\n",
    "print(f\"Total instances generated: {len(data)}\")\n",
    "print(data[0])"
   ]
  },
  {
   "cell_type": "code",
   "execution_count": 5,
   "metadata": {},
   "outputs": [],
   "source": [
    "# Generate data\n",
    "data_20 = generate_data(20, RDD_values, TF_values, instances_per_combination)"
   ]
  },
  {
   "cell_type": "code",
   "execution_count": 6,
   "metadata": {},
   "outputs": [],
   "source": [
    "with open('data_20_800_nosolution.npy', 'wb') as f:\n",
    "    np.save(f, data_20)"
   ]
  }
 ],
 "metadata": {
  "kernelspec": {
   "display_name": "Python 3",
   "language": "python",
   "name": "python3"
  },
  "language_info": {
   "codemirror_mode": {
    "name": "ipython",
    "version": 3
   },
   "file_extension": ".py",
   "mimetype": "text/x-python",
   "name": "python",
   "nbconvert_exporter": "python",
   "pygments_lexer": "ipython3",
   "version": "3.9.0"
  }
 },
 "nbformat": 4,
 "nbformat_minor": 2
}
